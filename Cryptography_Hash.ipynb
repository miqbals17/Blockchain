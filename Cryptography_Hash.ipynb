{
  "nbformat": 4,
  "nbformat_minor": 0,
  "metadata": {
    "colab": {
      "name": "Cryptography - Hash",
      "provenance": [],
      "authorship_tag": "ABX9TyODcaQw4AVr9uEr9hm0Ll0m",
      "include_colab_link": true
    },
    "kernelspec": {
      "name": "python3",
      "display_name": "Python 3"
    },
    "language_info": {
      "name": "python"
    }
  },
  "cells": [
    {
      "cell_type": "markdown",
      "metadata": {
        "id": "view-in-github",
        "colab_type": "text"
      },
      "source": [
        "<a href=\"https://colab.research.google.com/github/Veleno132/Blockchain/blob/main/Cryptography_Hash.ipynb\" target=\"_parent\"><img src=\"https://colab.research.google.com/assets/colab-badge.svg\" alt=\"Open In Colab\"/></a>"
      ]
    },
    {
      "cell_type": "markdown",
      "source": [
        "# **Hashing**\n",
        "Hashing adalah proses untuk mengubah suatu data menjadi data lain yang memiliki ukuran tertentu.\n",
        "\n",
        "<img src=\"https://kutu.dev/assets/img/hash_steps.png\">\n",
        "\n",
        "**Komponen pada Proses Hashing**\n",
        "- Data Masukan\n",
        "<p>Data masukan untuk hashing bisa berupa apapun (File, gambar, tulisan).</p>\n",
        "- Hash Function\n",
        "<p>Hash function adalah sebuah fungsi yang dapat mengubah data menjadi data lain yang memiliki ukuran tertentu. Fungsi ini adalah fungsi satu arah, artinya kita tidak bisa mengetahui apa data masukan fungsi ini jika kita memiliki data keluarannya.</p>\n",
        "- Digest\n",
        "<p>Digest adalah hasil keluaran dari hash function. Digest pada fungsi hash pada umumnya memiliki ukuran yang tetap.</p>"
      ],
      "metadata": {
        "id": "7B0aCCd3d_cW"
      }
    },
    {
      "cell_type": "code",
      "execution_count": 1,
      "metadata": {
        "id": "ExtbNbYXdQ3I"
      },
      "outputs": [],
      "source": [
        "import hashlib"
      ]
    },
    {
      "cell_type": "code",
      "source": [
        "m = hashlib.sha256()\n",
        "m.update(b\"Nobody inspects\")\n",
        "m.update(b\" the spammish repetition\")\n",
        "m.digest()"
      ],
      "metadata": {
        "colab": {
          "base_uri": "https://localhost:8080/"
        },
        "id": "FiWE_4L3daNG",
        "outputId": "81b7bff9-205f-4867-c0ca-bd290cda1e1f"
      },
      "execution_count": 2,
      "outputs": [
        {
          "output_type": "execute_result",
          "data": {
            "text/plain": [
              "b'\\x03\\x1e\\xdd}Ae\\x15\\x93\\xc5\\xfe\\\\\\x00o\\xa5u+7\\xfd\\xdf\\xf7\\xbcN\\x84:\\xa6\\xaf\\x0c\\x95\\x0fK\\x94\\x06'"
            ]
          },
          "metadata": {},
          "execution_count": 2
        }
      ]
    },
    {
      "cell_type": "code",
      "source": [
        "m.digest_size"
      ],
      "metadata": {
        "colab": {
          "base_uri": "https://localhost:8080/"
        },
        "id": "9dCGqJVzdrUG",
        "outputId": "e97e56bb-c011-4ffc-c279-070f3b564477"
      },
      "execution_count": 3,
      "outputs": [
        {
          "output_type": "execute_result",
          "data": {
            "text/plain": [
              "32"
            ]
          },
          "metadata": {},
          "execution_count": 3
        }
      ]
    },
    {
      "cell_type": "code",
      "source": [
        "m.block_size"
      ],
      "metadata": {
        "colab": {
          "base_uri": "https://localhost:8080/"
        },
        "id": "dH3a7d53dstA",
        "outputId": "c30ec26a-37d5-48a2-dd9f-177f09268b82"
      },
      "execution_count": 4,
      "outputs": [
        {
          "output_type": "execute_result",
          "data": {
            "text/plain": [
              "64"
            ]
          },
          "metadata": {},
          "execution_count": 4
        }
      ]
    },
    {
      "cell_type": "code",
      "source": [
        "m.hexdigest()"
      ],
      "metadata": {
        "colab": {
          "base_uri": "https://localhost:8080/",
          "height": 35
        },
        "id": "lpQxop-vdvRw",
        "outputId": "5ec18339-f46e-40d1-a913-bfb9451306a4"
      },
      "execution_count": 5,
      "outputs": [
        {
          "output_type": "execute_result",
          "data": {
            "application/vnd.google.colaboratory.intrinsic+json": {
              "type": "string"
            },
            "text/plain": [
              "'031edd7d41651593c5fe5c006fa5752b37fddff7bc4e843aa6af0c950f4b9406'"
            ]
          },
          "metadata": {},
          "execution_count": 5
        }
      ]
    },
    {
      "cell_type": "markdown",
      "source": [
        "# *Reference:*\n",
        "https://kutu.dev/artikel/mengenal-hashing"
      ],
      "metadata": {
        "id": "KctuVedSgmfP"
      }
    }
  ]
}